{
 "metadata": {
  "language_info": {
   "codemirror_mode": {
    "name": "ipython",
    "version": 3
   },
   "file_extension": ".py",
   "mimetype": "text/x-python",
   "name": "python",
   "nbconvert_exporter": "python",
   "pygments_lexer": "ipython3",
   "version": "3.8.5-final"
  },
  "orig_nbformat": 2,
  "kernelspec": {
   "name": "python3",
   "display_name": "Python 3.8.5 64-bit (conda)",
   "metadata": {
    "interpreter": {
     "hash": "82041a31fa746d4a113071159a9c0ff315eaf57a37f12aa63c98354270420767"
    }
   }
  }
 },
 "nbformat": 4,
 "nbformat_minor": 2,
 "cells": [
  {
   "cell_type": "code",
   "execution_count": 148,
   "metadata": {},
   "outputs": [],
   "source": [
    "import pandas as pd\n",
    "from constants import *\n",
    "import string\n"
   ]
  },
  {
   "source": [
    "# Importing Data"
   ],
   "cell_type": "markdown",
   "metadata": {}
  },
  {
   "cell_type": "code",
   "execution_count": 149,
   "metadata": {},
   "outputs": [
    {
     "output_type": "execute_result",
     "data": {
      "text/plain": [
       "<bound method NDFrame.describe of    firstName  lastName        pos1     pos2  price  average  last3Avg  \\\n",
       "0        Max      Gawn        Ruck      NaN  $944k      123       117   \n",
       "1       Zach   Merrett  Midfielder      NaN  $884k      115       116   \n",
       "2       Jake     Lloyd    Defender      NaN  $873k      114       113   \n",
       "3     Brodie    Grundy        Ruck      NaN  $867k      113       107   \n",
       "4       Matt    Crouch  Midfielder      NaN  $844k      110       122   \n",
       "..       ...       ...         ...      ...    ...      ...       ...   \n",
       "70     Heath   Chapman    Defender      NaN  $244k        0         0   \n",
       "71   Lachlan     Jones    Defender      NaN  $240k        0         0   \n",
       "72     James    Madden    Defender  Forward  $170k        0         0   \n",
       "73     Isaac     Chugg    Defender  Forward  $170k        0         0   \n",
       "74     Nakia  Cockatoo  Midfielder  Forward  $243k        0         0   \n",
       "\n",
       "    projected  include  \n",
       "0         106        1  \n",
       "1         111        1  \n",
       "2         104        1  \n",
       "3         109        1  \n",
       "4         110        1  \n",
       "..        ...      ...  \n",
       "70         43        1  \n",
       "71         43        1  \n",
       "72         38        1  \n",
       "73         38        1  \n",
       "74         51        1  \n",
       "\n",
       "[75 rows x 9 columns]>"
      ]
     },
     "metadata": {},
     "execution_count": 149
    }
   ],
   "source": [
    "data = pd.read_csv('data/fav_players.csv')\n",
    "data.head()\n",
    "data.describe\n"
   ]
  },
  {
   "source": [
    "# Formatting data"
   ],
   "cell_type": "markdown",
   "metadata": {}
  },
  {
   "cell_type": "code",
   "execution_count": 150,
   "metadata": {},
   "outputs": [
    {
     "output_type": "execute_result",
     "data": {
      "text/plain": [
       "<bound method NDFrame.describe of    firstName  lastName        pos1     pos2  price  average  last3Avg  \\\n",
       "0        Max      Gawn        Ruck             944      123       117   \n",
       "1       Zach   Merrett  Midfielder             884      115       116   \n",
       "2       Jake     Lloyd    Defender             873      114       113   \n",
       "3     Brodie    Grundy        Ruck             867      113       107   \n",
       "4       Matt    Crouch  Midfielder             844      110       122   \n",
       "..       ...       ...         ...      ...    ...      ...       ...   \n",
       "70     Heath   Chapman    Defender             244        0         0   \n",
       "71   Lachlan     Jones    Defender             240        0         0   \n",
       "72     James    Madden    Defender  Forward    170        0         0   \n",
       "73     Isaac     Chugg    Defender  Forward    170        0         0   \n",
       "74     Nakia  Cockatoo  Midfielder  Forward    243        0         0   \n",
       "\n",
       "    projected  include  category  \n",
       "0         106        1         4  \n",
       "1         111        1         4  \n",
       "2         104        1         4  \n",
       "3         109        1         4  \n",
       "4         110        1         4  \n",
       "..        ...      ...       ...  \n",
       "70         43        1         1  \n",
       "71         43        1         1  \n",
       "72         38        1         0  \n",
       "73         38        1         0  \n",
       "74         51        1         1  \n",
       "\n",
       "[75 rows x 10 columns]>"
      ]
     },
     "metadata": {},
     "execution_count": 150
    }
   ],
   "source": [
    "# fill NaN\n",
    "data['pos2'] = data['pos2'].fillna('')\n",
    "data.head()\n",
    "\n",
    "# convert price to int\n",
    "data['price'] = data['price'].str.strip('$k').astype('int')\n",
    "data['price']\n",
    "\n",
    "# only use players with include = 1\n",
    "data = data[data['include'] == 1]\n",
    "data.describe\n",
    "\n",
    "# add column for price category\n",
    "data = data.assign(category=lambda x: x.price // 200)\n",
    "data.describe\n"
   ]
  },
  {
   "cell_type": "code",
   "execution_count": 151,
   "metadata": {},
   "outputs": [
    {
     "output_type": "execute_result",
     "data": {
      "text/plain": [
       "   firstName lastName  pos1     pos2  price  average  last3Avg  projected  \\\n",
       "0        Max     Gawn  Ruck             944      123       117        106   \n",
       "3     Brodie   Grundy  Ruck             867      113       107        109   \n",
       "5     Reilly  O'Brien  Ruck             828      108       121        106   \n",
       "30    Jarrod    Witts  Ruck             615       80        65         73   \n",
       "32     Peter  Ladhams  Ruck  Forward    560       78        52         58   \n",
       "64      Matt    Flynn  Ruck             170        0         0         42   \n",
       "68      Josh   Treacy  Ruck  Forward    170        0         0         40   \n",
       "69     Lloyd     Meek  Ruck             170        0         0         42   \n",
       "\n",
       "    include  category  \n",
       "0         1         4  \n",
       "3         1         4  \n",
       "5         1         4  \n",
       "30        1         3  \n",
       "32        1         2  \n",
       "64        1         0  \n",
       "68        1         0  \n",
       "69        1         0  "
      ],
      "text/html": "<div>\n<style scoped>\n    .dataframe tbody tr th:only-of-type {\n        vertical-align: middle;\n    }\n\n    .dataframe tbody tr th {\n        vertical-align: top;\n    }\n\n    .dataframe thead th {\n        text-align: right;\n    }\n</style>\n<table border=\"1\" class=\"dataframe\">\n  <thead>\n    <tr style=\"text-align: right;\">\n      <th></th>\n      <th>firstName</th>\n      <th>lastName</th>\n      <th>pos1</th>\n      <th>pos2</th>\n      <th>price</th>\n      <th>average</th>\n      <th>last3Avg</th>\n      <th>projected</th>\n      <th>include</th>\n      <th>category</th>\n    </tr>\n  </thead>\n  <tbody>\n    <tr>\n      <th>0</th>\n      <td>Max</td>\n      <td>Gawn</td>\n      <td>Ruck</td>\n      <td></td>\n      <td>944</td>\n      <td>123</td>\n      <td>117</td>\n      <td>106</td>\n      <td>1</td>\n      <td>4</td>\n    </tr>\n    <tr>\n      <th>3</th>\n      <td>Brodie</td>\n      <td>Grundy</td>\n      <td>Ruck</td>\n      <td></td>\n      <td>867</td>\n      <td>113</td>\n      <td>107</td>\n      <td>109</td>\n      <td>1</td>\n      <td>4</td>\n    </tr>\n    <tr>\n      <th>5</th>\n      <td>Reilly</td>\n      <td>O'Brien</td>\n      <td>Ruck</td>\n      <td></td>\n      <td>828</td>\n      <td>108</td>\n      <td>121</td>\n      <td>106</td>\n      <td>1</td>\n      <td>4</td>\n    </tr>\n    <tr>\n      <th>30</th>\n      <td>Jarrod</td>\n      <td>Witts</td>\n      <td>Ruck</td>\n      <td></td>\n      <td>615</td>\n      <td>80</td>\n      <td>65</td>\n      <td>73</td>\n      <td>1</td>\n      <td>3</td>\n    </tr>\n    <tr>\n      <th>32</th>\n      <td>Peter</td>\n      <td>Ladhams</td>\n      <td>Ruck</td>\n      <td>Forward</td>\n      <td>560</td>\n      <td>78</td>\n      <td>52</td>\n      <td>58</td>\n      <td>1</td>\n      <td>2</td>\n    </tr>\n    <tr>\n      <th>64</th>\n      <td>Matt</td>\n      <td>Flynn</td>\n      <td>Ruck</td>\n      <td></td>\n      <td>170</td>\n      <td>0</td>\n      <td>0</td>\n      <td>42</td>\n      <td>1</td>\n      <td>0</td>\n    </tr>\n    <tr>\n      <th>68</th>\n      <td>Josh</td>\n      <td>Treacy</td>\n      <td>Ruck</td>\n      <td>Forward</td>\n      <td>170</td>\n      <td>0</td>\n      <td>0</td>\n      <td>40</td>\n      <td>1</td>\n      <td>0</td>\n    </tr>\n    <tr>\n      <th>69</th>\n      <td>Lloyd</td>\n      <td>Meek</td>\n      <td>Ruck</td>\n      <td></td>\n      <td>170</td>\n      <td>0</td>\n      <td>0</td>\n      <td>42</td>\n      <td>1</td>\n      <td>0</td>\n    </tr>\n  </tbody>\n</table>\n</div>"
     },
     "metadata": {},
     "execution_count": 151
    }
   ],
   "source": [
    "# separate into postions\n",
    "defenders = pd.concat([data[data['pos1'] == 'Defender'], data[data['pos2'] == 'Defender']])\n",
    "\n",
    "forwards = pd.concat([data[data['pos1'] == 'Forward'], data[data['pos2'] == 'Forward']])\n",
    "\n",
    "midfielders = pd.concat([data[data['pos1'] == 'Midfielder'], data[data['pos2'] == 'Midfielder']])\n",
    "\n",
    "rucks = pd.concat([data[data['pos1'] == 'Ruck'], data[data['pos2'] == 'Ruck']])\n",
    "\n",
    "\n"
   ]
  },
  {
   "source": [
    "# Find all combinations for each position\n"
   ],
   "cell_type": "markdown",
   "metadata": {}
  },
  {
   "source": [
    "## Rucks"
   ],
   "cell_type": "markdown",
   "metadata": {}
  },
  {
   "cell_type": "code",
   "execution_count": null,
   "metadata": {},
   "outputs": [],
   "source": []
  }
 ]
}