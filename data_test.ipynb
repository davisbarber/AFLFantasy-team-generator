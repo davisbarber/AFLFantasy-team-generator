{
 "metadata": {
  "language_info": {
   "codemirror_mode": {
    "name": "ipython",
    "version": 3
   },
   "file_extension": ".py",
   "mimetype": "text/x-python",
   "name": "python",
   "nbconvert_exporter": "python",
   "pygments_lexer": "ipython3",
   "version": "3.8.5-final"
  },
  "orig_nbformat": 2,
  "kernelspec": {
   "name": "python3",
   "display_name": "Python 3.8.5 64-bit (conda)",
   "metadata": {
    "interpreter": {
     "hash": "82041a31fa746d4a113071159a9c0ff315eaf57a37f12aa63c98354270420767"
    }
   }
  }
 },
 "nbformat": 4,
 "nbformat_minor": 2,
 "cells": [
  {
   "cell_type": "code",
   "execution_count": 2,
   "metadata": {},
   "outputs": [],
   "source": [
    "import pandas as pd\n",
    "from constants import *\n",
    "import string\n",
    "from itertools import combinations, product, chain\n",
    "import numpy as np\n",
    "import time"
   ]
  },
  {
   "source": [
    "# Helping Functions"
   ],
   "cell_type": "markdown",
   "metadata": {}
  },
  {
   "cell_type": "code",
   "execution_count": 3,
   "metadata": {},
   "outputs": [],
   "source": [
    "def contains_duplicates(X):\n",
    "    return len(np.unique(X)) != len(X)\n",
    "\n"
   ]
  },
  {
   "source": [
    "# Importing Data"
   ],
   "cell_type": "markdown",
   "metadata": {}
  },
  {
   "cell_type": "code",
   "execution_count": 4,
   "metadata": {},
   "outputs": [
    {
     "output_type": "execute_result",
     "data": {
      "text/plain": [
       "<bound method NDFrame.describe of    firstName         lastName        pos1        pos2  include  lock  bench  \\\n",
       "0     Brodie           Grundy        Ruck         NaN        0     0      0   \n",
       "1       Zach          Merrett  Midfielder         NaN        1     0      0   \n",
       "2     Reilly          O'Brien        Ruck         NaN        1     0      0   \n",
       "3        Max             Gawn        Ruck         NaN        1     1      0   \n",
       "4       Rory            Laird    Defender         NaN        1     1      0   \n",
       "5        Sam            Walsh  Midfielder         NaN        1     1      0   \n",
       "6    Stephen         Coniglio  Midfielder         NaN        0     0      0   \n",
       "7     Jayden            Short    Defender         NaN        1     1      0   \n",
       "8      Caleb           Daniel    Defender         NaN        1     0      0   \n",
       "9     Callum            Mills    Defender         NaN        1     0      0   \n",
       "10       Dan          Houston    Defender         NaN        0     0      0   \n",
       "11    Jarrod            Witts        Ruck         NaN        1     0      0   \n",
       "12       Zac           Bailey  Midfielder     Forward        1     0      0   \n",
       "13       Tom         Phillips     Forward         NaN        1     1      0   \n",
       "14       Zak          Butters     Forward         NaN        1     1      0   \n",
       "15     Jamie          Elliott  Midfielder     Forward        0     0      0   \n",
       "16     Ethan           Hughes    Defender         NaN        0     0      0   \n",
       "17      Josh          Dunkley  Midfielder     Forward        1     0      0   \n",
       "18       Tim          Taranto  Midfielder         NaN        1     1      0   \n",
       "19      Rory           Sloane  Midfielder         NaN        1     0      0   \n",
       "20    Jaidyn       Stephenson     Forward         NaN        1     0      0   \n",
       "21       Jye         Caldwell  Midfielder     Forward        1     0      0   \n",
       "22    Jordan               De        Goey     Forward        1     0      0   \n",
       "23       Tom           Atkins     Forward         NaN        1     0      0   \n",
       "24      Matt           Rowell  Midfielder         NaN        1     1      0   \n",
       "25       Tom            Green  Midfielder         NaN        1     0      0   \n",
       "26      Oleg           Markov    Defender         NaN        1     0      0   \n",
       "27    Hayden            Young    Defender         NaN        1     0      0   \n",
       "28    Orazio         Fantasia    Defender     Forward        1     0      0   \n",
       "29       Joe          Daniher     Forward         NaN        1     0      0   \n",
       "30    Jordan            Clark    Defender  Midfielder        1     0      0   \n",
       "31     Isaac          Cumming    Defender         NaN        1     0      0   \n",
       "32     Paddy              Dow     Forward         NaN        1     0      0   \n",
       "33    Connor             Idun    Defender         NaN        1     0      0   \n",
       "34       Sam            Berry  Midfielder         NaN        1     0      1   \n",
       "35    Connor           Downie  Midfielder         NaN        1     1      0   \n",
       "36     Riley  Collier-Dawkins  Midfielder         NaN        1     0      1   \n",
       "37       Tom           Powell  Midfielder         NaN        1     1      0   \n",
       "38   Charlie          Lazzaro  Midfielder         NaN        1     0      1   \n",
       "39     James           Jordon  Midfielder         NaN        1     1      1   \n",
       "40     Errol           Gulden  Midfielder         NaN        1     0      1   \n",
       "41     Jimmy          Webster    Defender         NaN        1     0      0   \n",
       "42   Braeden         Campbell  Midfielder     Forward        1     0      0   \n",
       "43       Ely            Smith  Midfielder     Forward        0     0      0   \n",
       "44     Trent           Bianco    Defender  Midfielder        0     0      0   \n",
       "45     Tyler         Brockman  Midfielder     Forward        1     0      1   \n",
       "46  Harrison            Jones     Forward         NaN        1     0      1   \n",
       "47     James             Rowe     Forward         NaN        1     1      0   \n",
       "48     Miles          Bergman     Forward         NaN        1     1      1   \n",
       "49      Matt            Flynn        Ruck         NaN        1     1      0   \n",
       "50    Thomas         Highmore    Defender         NaN        1     0      1   \n",
       "51      Will            Gould    Defender         NaN        0     0      0   \n",
       "52      Josh           Treacy        Ruck     Forward        0     0      0   \n",
       "53     Lloyd             Meek        Ruck         NaN        1     0      1   \n",
       "54     Isaac            Chugg    Defender     Forward        0     0      0   \n",
       "55     Jacob       Koschitzke    Defender         NaN        1     0      1   \n",
       "56      Alec         Waterman     Forward         NaN        0     0      0   \n",
       "57      Paul           Hunter        Ruck         NaN        1     0      1   \n",
       "58   Patrick      Dangerfield  Midfielder     Forward        1     0      0   \n",
       "\n",
       "    price  average  last3Avg  projected  aami  \n",
       "0   $867k      113       107        109    79  \n",
       "1   $884k      115       116        111   134  \n",
       "2   $828k      108       121        106    64  \n",
       "3   $944k      123       117        106    84  \n",
       "4   $763k      100       115         99    97  \n",
       "5   $739k       96       119         93    82  \n",
       "6   $744k       97        94         94    72  \n",
       "7   $694k       90        92         78   171  \n",
       "8   $676k       88       120         89   108  \n",
       "9   $705k       92        97         85    63  \n",
       "10  $697k       91       113         90   154  \n",
       "11  $615k       80        65         73    88  \n",
       "12  $590k       77        67         61    57  \n",
       "13  $602k       79        80         83   141  \n",
       "14  $595k       78        77         63   111  \n",
       "15  $545k       71        78         80    55  \n",
       "16  $492k       64        77         65   133  \n",
       "17  $741k       97       108         97   130  \n",
       "18  $718k       94        84         92   121  \n",
       "19  $580k       76        86         96    70  \n",
       "20  $470k       61        55         66    97  \n",
       "21  $502k       67        74         74    75  \n",
       "22  $605k       75        79         75   127  \n",
       "23  $385k       50        71         53    78  \n",
       "24  $574k       88        76        110    59  \n",
       "25  $443k       65        74         70    73  \n",
       "26  $370k       53        50         53    85  \n",
       "27  $337k       52        57         52    72  \n",
       "28  $353k       49        52         62    80  \n",
       "29  $432k       60        44         58    71  \n",
       "30  $422k       69        69         70   135  \n",
       "31  $355k       58        58         57    58  \n",
       "32  $323k       42        42         51    51  \n",
       "33  $221k       38        38         38    60  \n",
       "34  $216k       47        47         47    40  \n",
       "35  $202k       46        46         46    63  \n",
       "36  $170k       44        44         44    40  \n",
       "37  $246k       50        50         50    64  \n",
       "38  $200k       46        46         46    30  \n",
       "39  $170k       44        44         44    49  \n",
       "40  $208k       47        47         47    72  \n",
       "41  $316k       65        65         65    66  \n",
       "42  $262k       48        48         48    57  \n",
       "43  $170k       41        41         41     0  \n",
       "44  $170k       40        40         40     0  \n",
       "45  $180k       42        42         42    69  \n",
       "46  $170k       38        38         38    46  \n",
       "47  $196k       40        40         40    58  \n",
       "48  $170k       38        38         38    86  \n",
       "49  $170k       42        42         42    50  \n",
       "50  $182k       38        38         38    50  \n",
       "51  $170k       37        37         37     0  \n",
       "52  $170k       40        40         40    24  \n",
       "53  $170k       42        42         42    70  \n",
       "54  $170k       38        38         38     0  \n",
       "55  $170k       37        37         37    95  \n",
       "56  $170k       38        38         38    20  \n",
       "57  $170k       42        42         42    60  \n",
       "58  $780k      102       100        112    86  >"
      ]
     },
     "metadata": {},
     "execution_count": 4
    }
   ],
   "source": [
    "data = pd.read_csv('data/fav_players.csv')\n",
    "data.head()\n",
    "data.describe\n"
   ]
  },
  {
   "source": [
    "# Formatting data"
   ],
   "cell_type": "markdown",
   "metadata": {}
  },
  {
   "cell_type": "code",
   "execution_count": 5,
   "metadata": {},
   "outputs": [
    {
     "output_type": "execute_result",
     "data": {
      "text/plain": [
       "<bound method NDFrame.describe of    firstName         lastName        pos1        pos2  include  lock  bench  \\\n",
       "1       Zach          Merrett  Midfielder                    1     0      0   \n",
       "2     Reilly          O'Brien        Ruck                    1     0      0   \n",
       "3        Max             Gawn        Ruck                    1     1      0   \n",
       "4       Rory            Laird    Defender                    1     1      0   \n",
       "5        Sam            Walsh  Midfielder                    1     1      0   \n",
       "7     Jayden            Short    Defender                    1     1      0   \n",
       "8      Caleb           Daniel    Defender                    1     0      0   \n",
       "9     Callum            Mills    Defender                    1     0      0   \n",
       "11    Jarrod            Witts        Ruck                    1     0      0   \n",
       "12       Zac           Bailey  Midfielder     Forward        1     0      0   \n",
       "13       Tom         Phillips     Forward                    1     1      0   \n",
       "14       Zak          Butters     Forward                    1     1      0   \n",
       "17      Josh          Dunkley  Midfielder     Forward        1     0      0   \n",
       "18       Tim          Taranto  Midfielder                    1     1      0   \n",
       "19      Rory           Sloane  Midfielder                    1     0      0   \n",
       "20    Jaidyn       Stephenson     Forward                    1     0      0   \n",
       "21       Jye         Caldwell  Midfielder     Forward        1     0      0   \n",
       "22    Jordan               De        Goey     Forward        1     0      0   \n",
       "23       Tom           Atkins     Forward                    1     0      0   \n",
       "24      Matt           Rowell  Midfielder                    1     1      0   \n",
       "25       Tom            Green  Midfielder                    1     0      0   \n",
       "26      Oleg           Markov    Defender                    1     0      0   \n",
       "27    Hayden            Young    Defender                    1     0      0   \n",
       "28    Orazio         Fantasia    Defender     Forward        1     0      0   \n",
       "29       Joe          Daniher     Forward                    1     0      0   \n",
       "30    Jordan            Clark    Defender  Midfielder        1     0      0   \n",
       "31     Isaac          Cumming    Defender                    1     0      0   \n",
       "32     Paddy              Dow     Forward                    1     0      0   \n",
       "33    Connor             Idun    Defender                    1     0      0   \n",
       "34       Sam            Berry  Midfielder                    1     0      1   \n",
       "35    Connor           Downie  Midfielder                    1     1      0   \n",
       "36     Riley  Collier-Dawkins  Midfielder                    1     0      1   \n",
       "37       Tom           Powell  Midfielder                    1     1      0   \n",
       "38   Charlie          Lazzaro  Midfielder                    1     0      1   \n",
       "39     James           Jordon  Midfielder                    1     1      1   \n",
       "40     Errol           Gulden  Midfielder                    1     0      1   \n",
       "41     Jimmy          Webster    Defender                    1     0      0   \n",
       "42   Braeden         Campbell  Midfielder     Forward        1     0      0   \n",
       "45     Tyler         Brockman  Midfielder     Forward        1     0      1   \n",
       "46  Harrison            Jones     Forward                    1     0      1   \n",
       "47     James             Rowe     Forward                    1     1      0   \n",
       "48     Miles          Bergman     Forward                    1     1      1   \n",
       "49      Matt            Flynn        Ruck                    1     1      0   \n",
       "50    Thomas         Highmore    Defender                    1     0      1   \n",
       "53     Lloyd             Meek        Ruck                    1     0      1   \n",
       "55     Jacob       Koschitzke    Defender                    1     0      1   \n",
       "57      Paul           Hunter        Ruck                    1     0      1   \n",
       "58   Patrick      Dangerfield  Midfielder     Forward        1     0      0   \n",
       "\n",
       "    price  average  last3Avg  projected  aami  \n",
       "1     884      115       116        111   134  \n",
       "2     828      108       121        106    64  \n",
       "3     944      123       117        106    84  \n",
       "4     763      100       115         99    97  \n",
       "5     739       96       119         93    82  \n",
       "7     694       90        92         78   171  \n",
       "8     676       88       120         89   108  \n",
       "9     705       92        97         85    63  \n",
       "11    615       80        65         73    88  \n",
       "12    590       77        67         61    57  \n",
       "13    602       79        80         83   141  \n",
       "14    595       78        77         63   111  \n",
       "17    741       97       108         97   130  \n",
       "18    718       94        84         92   121  \n",
       "19    580       76        86         96    70  \n",
       "20    470       61        55         66    97  \n",
       "21    502       67        74         74    75  \n",
       "22    605       75        79         75   127  \n",
       "23    385       50        71         53    78  \n",
       "24    574       88        76        110    59  \n",
       "25    443       65        74         70    73  \n",
       "26    370       53        50         53    85  \n",
       "27    337       52        57         52    72  \n",
       "28    353       49        52         62    80  \n",
       "29    432       60        44         58    71  \n",
       "30    422       69        69         70   135  \n",
       "31    355       58        58         57    58  \n",
       "32    323       42        42         51    51  \n",
       "33    221       38        38         38    60  \n",
       "34    216       47        47         47    40  \n",
       "35    202       46        46         46    63  \n",
       "36    170       44        44         44    40  \n",
       "37    246       50        50         50    64  \n",
       "38    200       46        46         46    30  \n",
       "39    170       44        44         44    49  \n",
       "40    208       47        47         47    72  \n",
       "41    316       65        65         65    66  \n",
       "42    262       48        48         48    57  \n",
       "45    180       42        42         42    69  \n",
       "46    170       38        38         38    46  \n",
       "47    196       40        40         40    58  \n",
       "48    170       38        38         38    86  \n",
       "49    170       42        42         42    50  \n",
       "50    182       38        38         38    50  \n",
       "53    170       42        42         42    70  \n",
       "55    170       37        37         37    95  \n",
       "57    170       42        42         42    60  \n",
       "58    780      102       100        112    86  >"
      ]
     },
     "metadata": {},
     "execution_count": 5
    }
   ],
   "source": [
    "# fill NaN\n",
    "data['pos2'] = data['pos2'].fillna('')\n",
    "data.head()\n",
    "\n",
    "# drop players with include = 0\n",
    "data = data.drop(data[data['include'] == 0].index)\n",
    "\n",
    "# convert price to int\n",
    "data['price'] = data['price'].str.strip('$k').astype('int')\n",
    "data['price']\n",
    "\n",
    "# only use players with include = 1\n",
    "data = data[data['include'] == 1]\n",
    "data.describe\n"
   ]
  },
  {
   "cell_type": "code",
   "execution_count": 38,
   "metadata": {},
   "outputs": [
    {
     "output_type": "execute_result",
     "data": {
      "text/plain": [
       "   firstName         lastName        pos1        pos2  include  lock  bench  \\\n",
       "1       Zach          Merrett  Midfielder                    1     0      0   \n",
       "5        Sam            Walsh  Midfielder                    1     1      0   \n",
       "12       Zac           Bailey  Midfielder     Forward        1     0      0   \n",
       "17      Josh          Dunkley  Midfielder     Forward        1     0      0   \n",
       "18       Tim          Taranto  Midfielder                    1     1      0   \n",
       "19      Rory           Sloane  Midfielder                    1     0      0   \n",
       "21       Jye         Caldwell  Midfielder     Forward        1     0      0   \n",
       "24      Matt           Rowell  Midfielder                    1     1      0   \n",
       "25       Tom            Green  Midfielder                    1     0      0   \n",
       "34       Sam            Berry  Midfielder                    1     0      1   \n",
       "35    Connor           Downie  Midfielder                    1     1      0   \n",
       "36     Riley  Collier-Dawkins  Midfielder                    1     0      1   \n",
       "37       Tom           Powell  Midfielder                    1     1      0   \n",
       "38   Charlie          Lazzaro  Midfielder                    1     0      1   \n",
       "39     James           Jordon  Midfielder                    1     1      1   \n",
       "40     Errol           Gulden  Midfielder                    1     0      1   \n",
       "42   Braeden         Campbell  Midfielder     Forward        1     0      0   \n",
       "45     Tyler         Brockman  Midfielder     Forward        1     0      1   \n",
       "58   Patrick      Dangerfield  Midfielder     Forward        1     0      0   \n",
       "30    Jordan            Clark    Defender  Midfielder        1     0      0   \n",
       "\n",
       "    price  average  last3Avg  projected  aami  category  \n",
       "1     884      115       116        111   134         4  \n",
       "5     739       96       119         93    82         3  \n",
       "12    590       77        67         61    57         2  \n",
       "17    741       97       108         97   130         3  \n",
       "18    718       94        84         92   121         3  \n",
       "19    580       76        86         96    70         2  \n",
       "21    502       67        74         74    75         2  \n",
       "24    574       88        76        110    59         2  \n",
       "25    443       65        74         70    73         2  \n",
       "34    216       47        47         47    40         1  \n",
       "35    202       46        46         46    63         1  \n",
       "36    170       44        44         44    40         0  \n",
       "37    246       50        50         50    64         1  \n",
       "38    200       46        46         46    30         1  \n",
       "39    170       44        44         44    49         0  \n",
       "40    208       47        47         47    72         1  \n",
       "42    262       48        48         48    57         1  \n",
       "45    180       42        42         42    69         0  \n",
       "58    780      102       100        112    86         3  \n",
       "30    422       69        69         70   135         2  "
      ],
      "text/html": "<div>\n<style scoped>\n    .dataframe tbody tr th:only-of-type {\n        vertical-align: middle;\n    }\n\n    .dataframe tbody tr th {\n        vertical-align: top;\n    }\n\n    .dataframe thead th {\n        text-align: right;\n    }\n</style>\n<table border=\"1\" class=\"dataframe\">\n  <thead>\n    <tr style=\"text-align: right;\">\n      <th></th>\n      <th>firstName</th>\n      <th>lastName</th>\n      <th>pos1</th>\n      <th>pos2</th>\n      <th>include</th>\n      <th>lock</th>\n      <th>bench</th>\n      <th>price</th>\n      <th>average</th>\n      <th>last3Avg</th>\n      <th>projected</th>\n      <th>aami</th>\n      <th>category</th>\n    </tr>\n  </thead>\n  <tbody>\n    <tr>\n      <th>1</th>\n      <td>Zach</td>\n      <td>Merrett</td>\n      <td>Midfielder</td>\n      <td></td>\n      <td>1</td>\n      <td>0</td>\n      <td>0</td>\n      <td>884</td>\n      <td>115</td>\n      <td>116</td>\n      <td>111</td>\n      <td>134</td>\n      <td>4</td>\n    </tr>\n    <tr>\n      <th>5</th>\n      <td>Sam</td>\n      <td>Walsh</td>\n      <td>Midfielder</td>\n      <td></td>\n      <td>1</td>\n      <td>1</td>\n      <td>0</td>\n      <td>739</td>\n      <td>96</td>\n      <td>119</td>\n      <td>93</td>\n      <td>82</td>\n      <td>3</td>\n    </tr>\n    <tr>\n      <th>12</th>\n      <td>Zac</td>\n      <td>Bailey</td>\n      <td>Midfielder</td>\n      <td>Forward</td>\n      <td>1</td>\n      <td>0</td>\n      <td>0</td>\n      <td>590</td>\n      <td>77</td>\n      <td>67</td>\n      <td>61</td>\n      <td>57</td>\n      <td>2</td>\n    </tr>\n    <tr>\n      <th>17</th>\n      <td>Josh</td>\n      <td>Dunkley</td>\n      <td>Midfielder</td>\n      <td>Forward</td>\n      <td>1</td>\n      <td>0</td>\n      <td>0</td>\n      <td>741</td>\n      <td>97</td>\n      <td>108</td>\n      <td>97</td>\n      <td>130</td>\n      <td>3</td>\n    </tr>\n    <tr>\n      <th>18</th>\n      <td>Tim</td>\n      <td>Taranto</td>\n      <td>Midfielder</td>\n      <td></td>\n      <td>1</td>\n      <td>1</td>\n      <td>0</td>\n      <td>718</td>\n      <td>94</td>\n      <td>84</td>\n      <td>92</td>\n      <td>121</td>\n      <td>3</td>\n    </tr>\n    <tr>\n      <th>19</th>\n      <td>Rory</td>\n      <td>Sloane</td>\n      <td>Midfielder</td>\n      <td></td>\n      <td>1</td>\n      <td>0</td>\n      <td>0</td>\n      <td>580</td>\n      <td>76</td>\n      <td>86</td>\n      <td>96</td>\n      <td>70</td>\n      <td>2</td>\n    </tr>\n    <tr>\n      <th>21</th>\n      <td>Jye</td>\n      <td>Caldwell</td>\n      <td>Midfielder</td>\n      <td>Forward</td>\n      <td>1</td>\n      <td>0</td>\n      <td>0</td>\n      <td>502</td>\n      <td>67</td>\n      <td>74</td>\n      <td>74</td>\n      <td>75</td>\n      <td>2</td>\n    </tr>\n    <tr>\n      <th>24</th>\n      <td>Matt</td>\n      <td>Rowell</td>\n      <td>Midfielder</td>\n      <td></td>\n      <td>1</td>\n      <td>1</td>\n      <td>0</td>\n      <td>574</td>\n      <td>88</td>\n      <td>76</td>\n      <td>110</td>\n      <td>59</td>\n      <td>2</td>\n    </tr>\n    <tr>\n      <th>25</th>\n      <td>Tom</td>\n      <td>Green</td>\n      <td>Midfielder</td>\n      <td></td>\n      <td>1</td>\n      <td>0</td>\n      <td>0</td>\n      <td>443</td>\n      <td>65</td>\n      <td>74</td>\n      <td>70</td>\n      <td>73</td>\n      <td>2</td>\n    </tr>\n    <tr>\n      <th>34</th>\n      <td>Sam</td>\n      <td>Berry</td>\n      <td>Midfielder</td>\n      <td></td>\n      <td>1</td>\n      <td>0</td>\n      <td>1</td>\n      <td>216</td>\n      <td>47</td>\n      <td>47</td>\n      <td>47</td>\n      <td>40</td>\n      <td>1</td>\n    </tr>\n    <tr>\n      <th>35</th>\n      <td>Connor</td>\n      <td>Downie</td>\n      <td>Midfielder</td>\n      <td></td>\n      <td>1</td>\n      <td>1</td>\n      <td>0</td>\n      <td>202</td>\n      <td>46</td>\n      <td>46</td>\n      <td>46</td>\n      <td>63</td>\n      <td>1</td>\n    </tr>\n    <tr>\n      <th>36</th>\n      <td>Riley</td>\n      <td>Collier-Dawkins</td>\n      <td>Midfielder</td>\n      <td></td>\n      <td>1</td>\n      <td>0</td>\n      <td>1</td>\n      <td>170</td>\n      <td>44</td>\n      <td>44</td>\n      <td>44</td>\n      <td>40</td>\n      <td>0</td>\n    </tr>\n    <tr>\n      <th>37</th>\n      <td>Tom</td>\n      <td>Powell</td>\n      <td>Midfielder</td>\n      <td></td>\n      <td>1</td>\n      <td>1</td>\n      <td>0</td>\n      <td>246</td>\n      <td>50</td>\n      <td>50</td>\n      <td>50</td>\n      <td>64</td>\n      <td>1</td>\n    </tr>\n    <tr>\n      <th>38</th>\n      <td>Charlie</td>\n      <td>Lazzaro</td>\n      <td>Midfielder</td>\n      <td></td>\n      <td>1</td>\n      <td>0</td>\n      <td>1</td>\n      <td>200</td>\n      <td>46</td>\n      <td>46</td>\n      <td>46</td>\n      <td>30</td>\n      <td>1</td>\n    </tr>\n    <tr>\n      <th>39</th>\n      <td>James</td>\n      <td>Jordon</td>\n      <td>Midfielder</td>\n      <td></td>\n      <td>1</td>\n      <td>1</td>\n      <td>1</td>\n      <td>170</td>\n      <td>44</td>\n      <td>44</td>\n      <td>44</td>\n      <td>49</td>\n      <td>0</td>\n    </tr>\n    <tr>\n      <th>40</th>\n      <td>Errol</td>\n      <td>Gulden</td>\n      <td>Midfielder</td>\n      <td></td>\n      <td>1</td>\n      <td>0</td>\n      <td>1</td>\n      <td>208</td>\n      <td>47</td>\n      <td>47</td>\n      <td>47</td>\n      <td>72</td>\n      <td>1</td>\n    </tr>\n    <tr>\n      <th>42</th>\n      <td>Braeden</td>\n      <td>Campbell</td>\n      <td>Midfielder</td>\n      <td>Forward</td>\n      <td>1</td>\n      <td>0</td>\n      <td>0</td>\n      <td>262</td>\n      <td>48</td>\n      <td>48</td>\n      <td>48</td>\n      <td>57</td>\n      <td>1</td>\n    </tr>\n    <tr>\n      <th>45</th>\n      <td>Tyler</td>\n      <td>Brockman</td>\n      <td>Midfielder</td>\n      <td>Forward</td>\n      <td>1</td>\n      <td>0</td>\n      <td>1</td>\n      <td>180</td>\n      <td>42</td>\n      <td>42</td>\n      <td>42</td>\n      <td>69</td>\n      <td>0</td>\n    </tr>\n    <tr>\n      <th>58</th>\n      <td>Patrick</td>\n      <td>Dangerfield</td>\n      <td>Midfielder</td>\n      <td>Forward</td>\n      <td>1</td>\n      <td>0</td>\n      <td>0</td>\n      <td>780</td>\n      <td>102</td>\n      <td>100</td>\n      <td>112</td>\n      <td>86</td>\n      <td>3</td>\n    </tr>\n    <tr>\n      <th>30</th>\n      <td>Jordan</td>\n      <td>Clark</td>\n      <td>Defender</td>\n      <td>Midfielder</td>\n      <td>1</td>\n      <td>0</td>\n      <td>0</td>\n      <td>422</td>\n      <td>69</td>\n      <td>69</td>\n      <td>70</td>\n      <td>135</td>\n      <td>2</td>\n    </tr>\n  </tbody>\n</table>\n</div>"
     },
     "metadata": {},
     "execution_count": 38
    }
   ],
   "source": [
    "# separate into postions\n",
    "defenders = pd.concat([data[data['pos1'] == 'Defender'], data[data['pos2'] == 'Defender']])\n",
    "\n",
    "forwards = pd.concat([data[data['pos1'] == 'Forward'], data[data['pos2'] == 'Forward']])\n",
    "\n",
    "midfielders = pd.concat([data[data['pos1'] == 'Midfielder'], data[data['pos2'] == 'Midfielder']])\n",
    "\n",
    "rucks = pd.concat([data[data['pos1'] == 'Ruck'], data[data['pos2'] == 'Ruck']])\n",
    "\n",
    "\n",
    "midfielders"
   ]
  },
  {
   "source": [
    "# Find all combinations for each position\n"
   ],
   "cell_type": "markdown",
   "metadata": {}
  },
  {
   "source": [
    "## Rucks"
   ],
   "cell_type": "markdown",
   "metadata": {}
  },
  {
   "cell_type": "code",
   "execution_count": 39,
   "metadata": {
    "tags": []
   },
   "outputs": [
    {
     "output_type": "stream",
     "name": "stdout",
     "text": [
      "(3, 49)\n5\n[(3, 49, 2), (3, 49, 11), (3, 49, 49), (3, 49, 53), (3, 49, 57)]\n"
     ]
    }
   ],
   "source": [
    "ruck_combinations = []\n",
    "# only combinations with locked rucks\n",
    "locked_rucks = tuple(rucks.loc[rucks['lock'] == 1].index)\n",
    "print(locked_rucks)\n",
    "unlocked_rucks = rucks.drop([3])\n",
    "unlocked_rucks.head()\n",
    "\n",
    "for comb in list(combinations(unlocked_rucks.index,1)):\n",
    "    ruck_combinations.append(locked_rucks + comb)\n",
    "\n",
    "print(len(ruck_combinations))\n",
    "\n",
    "\n",
    "\n",
    "print(ruck_combinations)\n"
   ]
  },
  {
   "cell_type": "code",
   "execution_count": 40,
   "metadata": {},
   "outputs": [
    {
     "output_type": "stream",
     "name": "stdout",
     "text": [
      "4\n[[3, 49, 11], [3, 49, 49], [3, 49, 53], [3, 49, 57]]\n"
     ]
    }
   ],
   "source": [
    "# check combinations for too high salary\n",
    "# 16% of salary cap limit\n",
    "\n",
    "for comb in ruck_combinations:\n",
    "    salary = rucks.loc[list(comb), 'price'].sum()\n",
    "    if salary > 0.10*13000:\n",
    "        ruck_combinations.remove(comb)\n",
    "\n",
    "print(len(ruck_combinations))\n",
    "\n",
    "final_ruck_combs = []\n",
    "\n",
    "for comb in ruck_combinations:\n",
    "    final_ruck_combs.append(list(comb))\n",
    "\n",
    "\n",
    "print(final_ruck_combs)\n"
   ]
  },
  {
   "source": [
    "## Midfielders"
   ],
   "cell_type": "markdown",
   "metadata": {}
  },
  {
   "cell_type": "code",
   "execution_count": 41,
   "metadata": {
    "tags": []
   },
   "outputs": [
    {
     "output_type": "stream",
     "name": "stdout",
     "text": [
      "150\n[((5, 18, 1), (24, 12, 19), (35, 37), (39, 34)), ((5, 18, 1), (24, 12, 19), (35, 37), (39, 36)), ((5, 18, 1), (24, 12, 19), (35, 37), (39, 38)), ((5, 18, 1), (24, 12, 19), (35, 37), (39, 40)), ((5, 18, 1), (24, 12, 19), (35, 37), (39, 45)), ((5, 18, 1), (24, 12, 21), (35, 37), (39, 34)), ((5, 18, 1), (24, 12, 21), (35, 37), (39, 36)), ((5, 18, 1), (24, 12, 21), (35, 37), (39, 38)), ((5, 18, 1), (24, 12, 21), (35, 37), (39, 40)), ((5, 18, 1), (24, 12, 21), (35, 37), (39, 45))]\n"
     ]
    }
   ],
   "source": [
    "# separate into unlocked and locked\n",
    "locked_mids = tuple(midfielders.loc[midfielders['lock'] == 1].index)\n",
    "unlocked_mids = midfielders.drop(list(locked_mids))\n",
    "\n",
    "\n",
    "# separate into price categories for efficiency\n",
    "# unlocked\n",
    "premium_mids = unlocked_mids[unlocked_mids['price'] > 650]\n",
    "mid_range_mids = unlocked_mids[(unlocked_mids['price'] <=650) & (unlocked_mids['price'] > 300)]\n",
    "rookie_mids = unlocked_mids[(unlocked_mids['price'] <= 300) & (unlocked_mids['bench'] == 0)]\n",
    "bench_mids = unlocked_mids[(unlocked_mids['bench'] == 1)]\n",
    "# locked\n",
    "premium_lock = midfielders.loc[(midfielders['lock'] == 1) & (midfielders['price'] > 650)]\n",
    "mid_range_lock = midfielders.loc[(midfielders['lock'] == 1) & (midfielders['price'] <=650) & (midfielders['price'] > 300)]\n",
    "rookie_lock = midfielders.loc[(midfielders['lock'] == 1) & (midfielders['price'] <= 300) & (midfielders['bench'] == 0)]\n",
    "bench_lock = midfielders.loc[(midfielders['lock'] == 1) & (midfielders['bench'] == 1)]\n",
    "\n",
    "\n",
    "# get combinations for each category\n",
    "mid_arrangement = [\n",
    "    3 - len(premium_lock),\n",
    "    3 - len(mid_range_lock),\n",
    "    2 - len(rookie_lock),\n",
    "    2 - len(bench_lock)\n",
    "]\n",
    "\n",
    "# add combinations of unlocked mids to list of locked mids\n",
    "\n",
    "premium_mids_combs = list(combinations(premium_mids.index, mid_arrangement[0]))\n",
    "premium_mids_combs = list(map(lambda x: tuple(premium_lock.index) + x, premium_mids_combs))\n",
    "# only combinations with locked mid range\n",
    "mid_range_mids_combs = list(combinations(mid_range_mids.index, mid_arrangement[1]))\n",
    "mid_range_mids_combs = list(map(lambda x: tuple(mid_range_lock.index) + x, mid_range_mids_combs))\n",
    "\n",
    "rookie_mids_combs = list(combinations(rookie_mids.index, mid_arrangement[2]))\n",
    "rookie_mids_combs = list(map(lambda x: tuple(rookie_lock.index) + x, rookie_mids_combs))\n",
    "\n",
    "bench_mids_combs = list(combinations(bench_mids.index, mid_arrangement[3]))\n",
    "bench_mids_combs = list(map(lambda x: tuple(bench_lock.index) + x, bench_mids_combs))\n",
    "\n",
    "\n",
    "midfield_combinations_array = [premium_mids_combs, mid_range_mids_combs, rookie_mids_combs, bench_mids_combs]\n",
    "\n",
    "midfield_combinations = list(product(*midfield_combinations_array))\n",
    "# 9249240\n",
    "print(len(midfield_combinations))\n",
    "print(midfield_combinations[:10])\n",
    "\n",
    "\n",
    "\n",
    "# print(len(midfield_combinations))"
   ]
  },
  {
   "cell_type": "code",
   "execution_count": 42,
   "metadata": {},
   "outputs": [
    {
     "output_type": "stream",
     "name": "stdout",
     "text": [
      "[[5, 18, 1, 24, 12, 19, 35, 37, 39, 34], [5, 18, 1, 24, 12, 19, 35, 37, 39, 36], [5, 18, 1, 24, 12, 19, 35, 37, 39, 38], [5, 18, 1, 24, 12, 19, 35, 37, 39, 40], [5, 18, 1, 24, 12, 19, 35, 37, 39, 45]]\n0.02700638771057129\n"
     ]
    },
    {
     "output_type": "execute_result",
     "data": {
      "text/plain": [
       "150"
      ]
     },
     "metadata": {},
     "execution_count": 42
    }
   ],
   "source": [
    "# remove combinations with salary > 50%\n",
    "t = time.time()\n",
    "\n",
    "# flatten combinations and convert to list\n",
    "mid_combinations = []\n",
    "\n",
    "for arrangement in midfield_combinations:\n",
    "    mid_combinations.append(list(chain(*list(arrangement))))\n",
    "\n",
    "print(mid_combinations[0:5])\n",
    "final_mid_combs = []\n",
    "\n",
    "for comb in mid_combinations:\n",
    "    salary = data.loc[comb, 'price'].sum()\n",
    "        \n",
    "    if salary < 5000:\n",
    "        final_mid_combs.append(comb)\n",
    "\n",
    "print(time.time() - t)\n",
    "len(final_mid_combs)"
   ]
  },
  {
   "source": [
    "## Combine mid and ruck combinations"
   ],
   "cell_type": "markdown",
   "metadata": {}
  },
  {
   "cell_type": "code",
   "execution_count": 43,
   "metadata": {},
   "outputs": [
    {
     "output_type": "stream",
     "name": "stdout",
     "text": [
      "[5, 18, 1, 24, 12, 19, 35, 37, 39, 34, 3, 49, 11]\n"
     ]
    },
    {
     "output_type": "execute_result",
     "data": {
      "text/plain": [
       "600"
      ]
     },
     "metadata": {},
     "execution_count": 43
    }
   ],
   "source": [
    "combined = list(product(*[final_mid_combs, final_ruck_combs]))\n",
    "# print(list(chain(*mid_ruck[0])))\n",
    "\n",
    "# combine mid and ruck arrays\n",
    "mid_ruck = []\n",
    "for comb in combined:\n",
    "    mid_ruck.append(comb[0] + comb[1])\n",
    "\n",
    "\n",
    "print(mid_ruck[0])\n",
    "len(mid_ruck)"
   ]
  },
  {
   "source": [
    "## Defenders"
   ],
   "cell_type": "markdown",
   "metadata": {}
  },
  {
   "cell_type": "code",
   "execution_count": null,
   "metadata": {},
   "outputs": [],
   "source": []
  },
  {
   "cell_type": "code",
   "execution_count": 44,
   "metadata": {},
   "outputs": [
    {
     "output_type": "stream",
     "name": "stdout",
     "text": [
      "40\n[((4, 7, 8), (26, 27, 28), (), (50, 55)), ((4, 7, 8), (26, 27, 30), (), (50, 55)), ((4, 7, 8), (26, 27, 31), (), (50, 55)), ((4, 7, 8), (26, 27, 41), (), (50, 55)), ((4, 7, 8), (26, 28, 30), (), (50, 55))]\n"
     ]
    }
   ],
   "source": [
    "# separate into locked and unlocked\n",
    "locked_defs = tuple(defenders.loc[defenders['lock'] == 1].index)\n",
    "unlocked_defs = defenders.drop(list(locked_defs))\n",
    "\n",
    "\n",
    "# separate into price categories for efficiency\n",
    "# unlocked\n",
    "premium_defs = unlocked_defs[unlocked_defs['price'] > 600]\n",
    "mid_range_defs = unlocked_defs[(unlocked_defs['price'] <=600) & (unlocked_defs['price'] > 300)]\n",
    "rookie_defs = unlocked_defs[(unlocked_defs['price'] <= 300) & (unlocked_defs['bench'] == 0)]\n",
    "bench_defs = unlocked_defs[(unlocked_defs['price'] <= 300) & (unlocked_defs['bench'] == 1)]\n",
    "\n",
    "# locked \n",
    "premium_lock = defenders.loc[(defenders['lock'] == 1) & (defenders['price'] > 600)]\n",
    "mid_range_lock = defenders.loc[(defenders['lock'] == 1) & (defenders['price'] <=600) & (defenders['price'] > 300)]\n",
    "rookie_lock = defenders.loc[(defenders['lock'] == 1) & (defenders['price'] <= 300) & (defenders['bench'] == 0)]\n",
    "bench_lock = defenders.loc[(defenders['lock'] == 1) & (defenders['bench'] == 1)]\n",
    "\n",
    "# get combinations for each category\n",
    "# needs some adjustment for edge cases\n",
    "def_arrangement = [\n",
    "    3 - len(premium_lock),\n",
    "    3 - len(mid_range_lock),\n",
    "    0 - len(rookie_lock),\n",
    "    2 - len(bench_lock)\n",
    "]\n",
    "\n",
    "# add combinations of unlocked mids to list of locked mids\n",
    "\n",
    "premium_defs_combs = list(combinations(premium_defs.index, def_arrangement[0]))\n",
    "premium_defs_combs = list(map(lambda x: tuple(premium_lock.index) + x, premium_defs_combs))\n",
    "\n",
    "mid_range_defs_combs = list(combinations(mid_range_defs.index, def_arrangement[1]))\n",
    "mid_range_defs_combs = list(map(lambda x: tuple(mid_range_lock.index) + x, mid_range_defs_combs))\n",
    "\n",
    "rookie_defs_combs = list(combinations(rookie_defs.index, def_arrangement[2]))\n",
    "rookie_defs_combs = list(map(lambda x: tuple(rookie_lock.index) + x, rookie_defs_combs))\n",
    "\n",
    "bench_defs_combs = list(combinations(bench_defs.index, def_arrangement[3]))\n",
    "bench_defs_combs = list(map(lambda x: tuple(bench_lock.index) + x, bench_defs_combs))\n",
    "\n",
    "# create all combinations for defenders from price categories\n",
    "defenders_combinations_array = [premium_defs_combs, mid_range_defs_combs, rookie_defs_combs, bench_defs_combs]\n",
    "\n",
    "defenders_combinations = list(product(*defenders_combinations_array))\n",
    "# 9249240\n",
    "print(len(defenders_combinations))\n",
    "print(defenders_combinations[0:5])"
   ]
  },
  {
   "source": [
    "## combine tuples into an array"
   ],
   "cell_type": "markdown",
   "metadata": {}
  },
  {
   "cell_type": "code",
   "execution_count": 45,
   "metadata": {},
   "outputs": [
    {
     "output_type": "stream",
     "name": "stdout",
     "text": [
      "[[4, 7, 8, 26, 27, 28, 50, 55], [4, 7, 8, 26, 27, 30, 50, 55], [4, 7, 8, 26, 27, 31, 50, 55], [4, 7, 8, 26, 27, 41, 50, 55], [4, 7, 8, 26, 28, 30, 50, 55]]\n"
     ]
    }
   ],
   "source": [
    "def_combinations = []\n",
    "\n",
    "for arrangement in defenders_combinations:\n",
    "    def_combinations.append(list(chain(*list(arrangement))))\n",
    "\n",
    "\n",
    "print(def_combinations[0:5])\n"
   ]
  },
  {
   "source": [
    "## filter out combs based on salary limit"
   ],
   "cell_type": "markdown",
   "metadata": {}
  },
  {
   "cell_type": "code",
   "execution_count": 46,
   "metadata": {},
   "outputs": [
    {
     "output_type": "execute_result",
     "data": {
      "text/plain": [
       "40"
      ]
     },
     "metadata": {},
     "execution_count": 46
    }
   ],
   "source": [
    "final_def_combs = []\n",
    "\n",
    "for comb in def_combinations:\n",
    "    salary = data.loc[comb, 'price'].sum()\n",
    "        \n",
    "    if salary < 4000:\n",
    "        final_def_combs.append(comb)\n",
    "\n",
    "len(final_def_combs)"
   ]
  },
  {
   "cell_type": "code",
   "execution_count": 47,
   "metadata": {},
   "outputs": [
    {
     "output_type": "stream",
     "name": "stdout",
     "text": [
      "24000\n[[4, 7, 8, 26, 27, 28, 50, 55, 5, 18, 1, 24, 12, 19, 35, 37, 39, 34, 3, 49, 11], [4, 7, 8, 26, 27, 28, 50, 55, 5, 18, 1, 24, 12, 19, 35, 37, 39, 34, 3, 49, 49], [4, 7, 8, 26, 27, 28, 50, 55, 5, 18, 1, 24, 12, 19, 35, 37, 39, 34, 3, 49, 53], [4, 7, 8, 26, 27, 28, 50, 55, 5, 18, 1, 24, 12, 19, 35, 37, 39, 34, 3, 49, 57], [4, 7, 8, 26, 27, 28, 50, 55, 5, 18, 1, 24, 12, 19, 35, 37, 39, 36, 3, 49, 11]]\n"
     ]
    }
   ],
   "source": [
    "combined = list(product(*[final_def_combs, mid_ruck]))\n",
    "print(len(combined))\n",
    "\n",
    "# combine arrays\n",
    "def_mid_ruck = []\n",
    "for comb in combined:\n",
    "    def_mid_ruck.append(comb[0] + comb[1])\n",
    "\n",
    "\n",
    "print(def_mid_ruck[0:5])"
   ]
  },
  {
   "source": [
    "## filter out any combinations with duplicate players"
   ],
   "cell_type": "markdown",
   "metadata": {}
  },
  {
   "cell_type": "code",
   "execution_count": 48,
   "metadata": {},
   "outputs": [
    {
     "output_type": "stream",
     "name": "stdout",
     "text": [
      "14400\n"
     ]
    }
   ],
   "source": [
    "valid_combs = []\n",
    "\n",
    "for comb in def_mid_ruck:\n",
    "    if not contains_duplicates(comb):\n",
    "        valid_combs.append(comb)\n",
    "\n",
    "print(len(valid_combs))"
   ]
  },
  {
   "source": [
    "# Forwards"
   ],
   "cell_type": "markdown",
   "metadata": {}
  },
  {
   "cell_type": "code",
   "execution_count": 49,
   "metadata": {},
   "outputs": [
    {
     "output_type": "stream",
     "name": "stdout",
     "text": [
      "13\n3\n330\n[((13, 14, 47, 20, 23, 29), (48, 46)), ((13, 14, 47, 20, 23, 29), (48, 45)), ((13, 14, 47, 20, 23, 32), (48, 46)), ((13, 14, 47, 20, 23, 32), (48, 45)), ((13, 14, 47, 20, 23, 12), (48, 46))]\n"
     ]
    }
   ],
   "source": [
    "# separate into locked and unlocked\n",
    "locked = tuple(forwards.loc[(forwards['lock'] == 1)].index)\n",
    "unlocked_fwds = forwards.drop(list(locked))\n",
    "locked_fwds = tuple(forwards.loc[(forwards['lock'] == 1) & (forwards['bench'] == 0)].index)\n",
    "onfield_unlocked_fwds = unlocked_fwds[unlocked_fwds['bench'] == 0]\n",
    "print(len(unlocked_fwds))\n",
    "print(len(locked_fwds))\n",
    "\n",
    "# separate into price categories for efficiency\n",
    "# unlocked\n",
    "premium_fwds = unlocked_fwds[unlocked_fwds['price'] > 600]\n",
    "mid_range_fwds = unlocked_fwds[(unlocked_fwds['price'] <=600) & (unlocked_fwds['price'] > 300)]\n",
    "rookie_fwds = unlocked_fwds[(unlocked_fwds['price'] <= 300) & (unlocked_fwds['bench'] == 0)]\n",
    "bench_fwds = unlocked_fwds[(unlocked_fwds['price'] <= 300) & (unlocked_fwds['bench'] == 1)]\n",
    "\n",
    "# locked \n",
    "premium_lock = forwards.loc[(forwards['lock'] == 1) & (forwards['price'] > 600)]\n",
    "mid_range_lock = forwards.loc[(forwards['lock'] == 1) & (forwards['price'] <=600) & (forwards['price'] > 300)]\n",
    "rookie_lock = forwards.loc[(forwards['lock'] == 1) & (forwards['price'] <= 300) & (forwards['bench'] == 0)]\n",
    "bench_lock = forwards.loc[(forwards['lock'] == 1) & (forwards['bench'] == 1)]\n",
    "\n",
    "# get combinations for each category\n",
    "# needs some adjustment for edge cases\n",
    "fwd_arrangement = [\n",
    "    2 - len(premium_lock),\n",
    "    3 - len(mid_range_lock),\n",
    "    1 - len(rookie_lock),\n",
    "    2 - len(bench_lock)\n",
    "]\n",
    "\n",
    "# add combinations of unlocked mids to list of locked mids\n",
    "\n",
    "# premium_fwds_combs = list(combinations(premium_fwds.index, fwd_arrangement[0]))\n",
    "# premium_fwds_combs = list(map(lambda x: tuple(premium_lock.index) + x, premium_fwds_combs))\n",
    "\n",
    "# mid_range_fwds_combs = list(combinations(mid_range_fwds.index, fwd_arrangement[1]))\n",
    "# mid_range_fwds_combs = list(map(lambda x: tuple(mid_range_lock.index) + x, mid_range_fwds_combs))\n",
    "\n",
    "# rookie_fwds_combs = list(combinations(rookie_fwds.index, fwd_arrangement[2]))\n",
    "# rookie_fwds_combs = list(map(lambda x: tuple(rookie_lock.index) + x, rookie_fwds_combs))\n",
    "# testing\n",
    "onfield_fwds = list(combinations(onfield_unlocked_fwds.index, 6 - len(locked_fwds)))\n",
    "onfield_fwds = list(map(lambda x: locked_fwds + x, onfield_fwds))\n",
    "\n",
    "bench_fwds_combs = list(combinations(bench_fwds.index, fwd_arrangement[3]))\n",
    "bench_fwds_combs = list(map(lambda x: tuple(bench_lock.index) + x, bench_fwds_combs))\n",
    "\n",
    "# create all combinations for forwards from price categories\n",
    "# forwards_combinations_array = [premium_fwds_combs, mid_range_fwds_combs, rookie_fwds_combs, bench_fwds_combs]\n",
    "forwards_combinations_array = [onfield_fwds, bench_fwds_combs]\n",
    "\n",
    "forwards_combinations = list(product(*forwards_combinations_array))\n",
    "# 9249240\n",
    "print(len(forwards_combinations))\n",
    "print(forwards_combinations[0:5])"
   ]
  },
  {
   "cell_type": "code",
   "execution_count": 50,
   "metadata": {},
   "outputs": [
    {
     "output_type": "stream",
     "name": "stdout",
     "text": [
      "(13, 14, 47)\n"
     ]
    }
   ],
   "source": [
    "print(locked_fwds)"
   ]
  },
  {
   "source": [
    "## format and filtering"
   ],
   "cell_type": "markdown",
   "metadata": {}
  },
  {
   "cell_type": "code",
   "execution_count": 51,
   "metadata": {},
   "outputs": [
    {
     "output_type": "stream",
     "name": "stdout",
     "text": [
      "[[13, 14, 47, 20, 23, 29, 48, 46], [13, 14, 47, 20, 23, 29, 48, 45], [13, 14, 47, 20, 23, 32, 48, 46], [13, 14, 47, 20, 23, 32, 48, 45], [13, 14, 47, 20, 23, 12, 48, 46]]\n"
     ]
    }
   ],
   "source": [
    "fwd_combinations = []\n",
    "\n",
    "for arrangement in forwards_combinations:\n",
    "    fwd_combinations.append(list(chain(*list(arrangement))))\n",
    "\n",
    "\n",
    "print(fwd_combinations[0:5])"
   ]
  },
  {
   "cell_type": "code",
   "execution_count": 52,
   "metadata": {},
   "outputs": [
    {
     "output_type": "execute_result",
     "data": {
      "text/plain": [
       "205"
      ]
     },
     "metadata": {},
     "execution_count": 52
    }
   ],
   "source": [
    "final_fwd_combs = []\n",
    "\n",
    "for comb in fwd_combinations:\n",
    "    salary = data.loc[comb, 'price'].sum()\n",
    "        \n",
    "    if salary < 3300:\n",
    "        final_fwd_combs.append(comb)\n",
    "\n",
    "len(final_fwd_combs)"
   ]
  },
  {
   "source": [
    "# full team combinations"
   ],
   "cell_type": "markdown",
   "metadata": {}
  },
  {
   "cell_type": "code",
   "execution_count": 53,
   "metadata": {},
   "outputs": [
    {
     "output_type": "stream",
     "name": "stdout",
     "text": [
      "2952000\n",
      "[[13, 14, 47, 20, 23, 29, 48, 46, 4, 7, 8, 26, 27, 28, 50, 55, 5, 18, 1, 24, 12, 19, 35, 37, 39, 34, 3, 49, 11], [13, 14, 47, 20, 23, 29, 48, 46, 4, 7, 8, 26, 27, 28, 50, 55, 5, 18, 1, 24, 12, 19, 35, 37, 39, 34, 3, 49, 53], [13, 14, 47, 20, 23, 29, 48, 46, 4, 7, 8, 26, 27, 28, 50, 55, 5, 18, 1, 24, 12, 19, 35, 37, 39, 34, 3, 49, 57], [13, 14, 47, 20, 23, 29, 48, 46, 4, 7, 8, 26, 27, 28, 50, 55, 5, 18, 1, 24, 12, 19, 35, 37, 39, 36, 3, 49, 11], [13, 14, 47, 20, 23, 29, 48, 46, 4, 7, 8, 26, 27, 28, 50, 55, 5, 18, 1, 24, 12, 19, 35, 37, 39, 36, 3, 49, 53]]\n"
     ]
    }
   ],
   "source": [
    "full_team = list(product(*[final_fwd_combs, valid_combs]))\n",
    "print(len(full_team))\n",
    "\n",
    "\n",
    "# combine arrays\n",
    "full_team_combined = []\n",
    "for comb in full_team:\n",
    "    full_team_combined.append(comb[0] + comb[1])\n",
    "\n",
    "\n",
    "print(full_team_combined[0:5])\n"
   ]
  },
  {
   "cell_type": "code",
   "execution_count": 54,
   "metadata": {},
   "outputs": [
    {
     "output_type": "stream",
     "name": "stdout",
     "text": [
      "1521900\n"
     ]
    }
   ],
   "source": [
    "# remove duplicates\n",
    "final_teams = []\n",
    "\n",
    "for comb in full_team_combined:\n",
    "    if not contains_duplicates(comb):\n",
    "        final_teams.append(comb)\n",
    "\n",
    "print(len(final_teams))\n"
   ]
  },
  {
   "source": [
    "## removing teams with too high salary"
   ],
   "cell_type": "markdown",
   "metadata": {}
  },
  {
   "cell_type": "code",
   "execution_count": 55,
   "metadata": {},
   "outputs": [
    {
     "output_type": "stream",
     "name": "stdout",
     "text": [
      "1929\n",
      "72103\n"
     ]
    }
   ],
   "source": [
    "# teams_df = pd.DataFrame()\n",
    "team_salaries = []\n",
    "teams = []\n",
    "projected = []\n",
    "average = []\n",
    "last3Avg = []\n",
    "aami = []\n",
    "\n",
    "print(data.loc[final_teams[0], ['average', 'projected', 'last3Avg']].sum().average)\n",
    "\n",
    "for team in final_teams:\n",
    "    salary = data.loc[team, 'price'].sum()\n",
    "\n",
    "    if salary <= 12830 and salary >= 12790:\n",
    "        # valid salary 29 players\n",
    "        teams.append(team)\n",
    "        team_salaries.append(salary)\n",
    "        # add sum of scores too\n",
    "        sums = data.loc[team, ['average', 'projected', 'last3Avg', 'aami']].sum()\n",
    "        average.append(sums.average)\n",
    "        projected.append(sums.projected)\n",
    "        last3Avg.append(sums.last3Avg)\n",
    "        aami.append(sums.aami)\n",
    "\n",
    "print(len(teams))\n"
   ]
  },
  {
   "cell_type": "code",
   "execution_count": 56,
   "metadata": {},
   "outputs": [
    {
     "output_type": "execute_result",
     "data": {
      "text/plain": [
       "   salary  average  projected  last3Avg  aami  \\\n",
       "0   12799     1887       1888      1947  2424   \n",
       "1   12829     1889       1890      1949  2414   \n",
       "2   12809     1885       1886      1945  2453   \n",
       "3   12824     1894       1891      1945  2486   \n",
       "4   12808     1893       1890      1944  2476   \n",
       "\n",
       "                                                team  \n",
       "0  [13, 14, 47, 20, 23, 29, 48, 46, 4, 7, 8, 26, ...  \n",
       "1  [13, 14, 47, 20, 23, 29, 48, 46, 4, 7, 8, 26, ...  \n",
       "2  [13, 14, 47, 20, 23, 29, 48, 46, 4, 7, 8, 26, ...  \n",
       "3  [13, 14, 47, 20, 23, 29, 48, 46, 4, 7, 8, 26, ...  \n",
       "4  [13, 14, 47, 20, 23, 29, 48, 46, 4, 7, 8, 26, ...  "
      ],
      "text/html": "<div>\n<style scoped>\n    .dataframe tbody tr th:only-of-type {\n        vertical-align: middle;\n    }\n\n    .dataframe tbody tr th {\n        vertical-align: top;\n    }\n\n    .dataframe thead th {\n        text-align: right;\n    }\n</style>\n<table border=\"1\" class=\"dataframe\">\n  <thead>\n    <tr style=\"text-align: right;\">\n      <th></th>\n      <th>salary</th>\n      <th>average</th>\n      <th>projected</th>\n      <th>last3Avg</th>\n      <th>aami</th>\n      <th>team</th>\n    </tr>\n  </thead>\n  <tbody>\n    <tr>\n      <th>0</th>\n      <td>12799</td>\n      <td>1887</td>\n      <td>1888</td>\n      <td>1947</td>\n      <td>2424</td>\n      <td>[13, 14, 47, 20, 23, 29, 48, 46, 4, 7, 8, 26, ...</td>\n    </tr>\n    <tr>\n      <th>1</th>\n      <td>12829</td>\n      <td>1889</td>\n      <td>1890</td>\n      <td>1949</td>\n      <td>2414</td>\n      <td>[13, 14, 47, 20, 23, 29, 48, 46, 4, 7, 8, 26, ...</td>\n    </tr>\n    <tr>\n      <th>2</th>\n      <td>12809</td>\n      <td>1885</td>\n      <td>1886</td>\n      <td>1945</td>\n      <td>2453</td>\n      <td>[13, 14, 47, 20, 23, 29, 48, 46, 4, 7, 8, 26, ...</td>\n    </tr>\n    <tr>\n      <th>3</th>\n      <td>12824</td>\n      <td>1894</td>\n      <td>1891</td>\n      <td>1945</td>\n      <td>2486</td>\n      <td>[13, 14, 47, 20, 23, 29, 48, 46, 4, 7, 8, 26, ...</td>\n    </tr>\n    <tr>\n      <th>4</th>\n      <td>12808</td>\n      <td>1893</td>\n      <td>1890</td>\n      <td>1944</td>\n      <td>2476</td>\n      <td>[13, 14, 47, 20, 23, 29, 48, 46, 4, 7, 8, 26, ...</td>\n    </tr>\n  </tbody>\n</table>\n</div>"
     },
     "metadata": {},
     "execution_count": 56
    }
   ],
   "source": [
    "# data frame with results\n",
    "results_data = {\n",
    "    'salary' : team_salaries,\n",
    "    'average' : average,\n",
    "    'projected' : projected,\n",
    "    'last3Avg' : last3Avg,\n",
    "    'aami' : aami,\n",
    "    'team' : teams\n",
    "}\n",
    "\n",
    "results = pd.DataFrame(results_data, columns=['salary', 'average', 'projected', 'last3Avg', 'aami', 'team'])\n",
    "\n",
    "results.head()"
   ]
  },
  {
   "source": [
    "# Sorting teams based on project score"
   ],
   "cell_type": "markdown",
   "metadata": {}
  },
  {
   "cell_type": "code",
   "execution_count": 57,
   "metadata": {},
   "outputs": [
    {
     "output_type": "execute_result",
     "data": {
      "text/plain": [
       "       salary  average  projected  last3Avg  aami  \\\n",
       "3829    12803     1906       1913      1986  2584   \n",
       "3839    12797     1899       1925      1990  2577   \n",
       "3830    12803     1906       1913      1986  2574   \n",
       "21653   12817     1909       1903      1961  2574   \n",
       "9875    12822     1912       1922      1954  2571   \n",
       "\n",
       "                                                    team  \n",
       "3829   [13, 14, 47, 20, 23, 22, 48, 45, 4, 7, 8, 26, ...  \n",
       "3839   [13, 14, 47, 20, 23, 22, 48, 45, 4, 7, 8, 26, ...  \n",
       "3830   [13, 14, 47, 20, 23, 22, 48, 45, 4, 7, 8, 26, ...  \n",
       "21653  [13, 14, 47, 20, 22, 42, 48, 45, 4, 7, 8, 26, ...  \n",
       "9875   [13, 14, 47, 20, 29, 22, 48, 45, 4, 7, 8, 26, ...  "
      ],
      "text/html": "<div>\n<style scoped>\n    .dataframe tbody tr th:only-of-type {\n        vertical-align: middle;\n    }\n\n    .dataframe tbody tr th {\n        vertical-align: top;\n    }\n\n    .dataframe thead th {\n        text-align: right;\n    }\n</style>\n<table border=\"1\" class=\"dataframe\">\n  <thead>\n    <tr style=\"text-align: right;\">\n      <th></th>\n      <th>salary</th>\n      <th>average</th>\n      <th>projected</th>\n      <th>last3Avg</th>\n      <th>aami</th>\n      <th>team</th>\n    </tr>\n  </thead>\n  <tbody>\n    <tr>\n      <th>3829</th>\n      <td>12803</td>\n      <td>1906</td>\n      <td>1913</td>\n      <td>1986</td>\n      <td>2584</td>\n      <td>[13, 14, 47, 20, 23, 22, 48, 45, 4, 7, 8, 26, ...</td>\n    </tr>\n    <tr>\n      <th>3839</th>\n      <td>12797</td>\n      <td>1899</td>\n      <td>1925</td>\n      <td>1990</td>\n      <td>2577</td>\n      <td>[13, 14, 47, 20, 23, 22, 48, 45, 4, 7, 8, 26, ...</td>\n    </tr>\n    <tr>\n      <th>3830</th>\n      <td>12803</td>\n      <td>1906</td>\n      <td>1913</td>\n      <td>1986</td>\n      <td>2574</td>\n      <td>[13, 14, 47, 20, 23, 22, 48, 45, 4, 7, 8, 26, ...</td>\n    </tr>\n    <tr>\n      <th>21653</th>\n      <td>12817</td>\n      <td>1909</td>\n      <td>1903</td>\n      <td>1961</td>\n      <td>2574</td>\n      <td>[13, 14, 47, 20, 22, 42, 48, 45, 4, 7, 8, 26, ...</td>\n    </tr>\n    <tr>\n      <th>9875</th>\n      <td>12822</td>\n      <td>1912</td>\n      <td>1922</td>\n      <td>1954</td>\n      <td>2571</td>\n      <td>[13, 14, 47, 20, 29, 22, 48, 45, 4, 7, 8, 26, ...</td>\n    </tr>\n  </tbody>\n</table>\n</div>"
     },
     "metadata": {},
     "execution_count": 57
    }
   ],
   "source": [
    "sort_by_projected = results.sort_values('projected', ascending=False)\n",
    "sort_by_average = results.sort_values('average', ascending=False)\n",
    "sort_by_last3Avg = results.sort_values('last3Avg', ascending=False)\n",
    "sort_by_aami = results.sort_values('aami', ascending=False)\n",
    "\n",
    "sort_by_aami.head()"
   ]
  },
  {
   "source": [
    "# display best teams for each value"
   ],
   "cell_type": "markdown",
   "metadata": {}
  },
  {
   "cell_type": "code",
   "execution_count": 58,
   "metadata": {},
   "outputs": [
    {
     "output_type": "stream",
     "name": "stdout",
     "text": [
      "12803\n2584\n"
     ]
    }
   ],
   "source": [
    "best_projected = data.loc[sort_by_projected.iloc[0].team]\n",
    "best_average = data.loc[sort_by_average.iloc[0].team]\n",
    "best_last3Avg = data.loc[sort_by_last3Avg.iloc[0].team]\n",
    "best_aami = data.loc[sort_by_aami.iloc[0].team]\n",
    "print(sort_by_aami.iloc[0].salary)\n",
    "print(sort_by_aami.iloc[0].aami)\n",
    " \n"
   ]
  },
  {
   "cell_type": "code",
   "execution_count": 59,
   "metadata": {},
   "outputs": [],
   "source": [
    "# write to xlsx\n",
    "with pd.ExcelWriter('../csv/best_teams.xlsx') as writer:\n",
    "    best_aami.to_excel(writer, sheet_name = 'aami')\n",
    "    best_projected.to_excel(writer, sheet_name = 'projected')\n",
    "    best_average.to_excel(writer, sheet_name = 'average')\n",
    "    best_last3Avg.to_excel(writer, sheet_name = 'last3Avg')"
   ]
  },
  {
   "cell_type": "code",
   "execution_count": null,
   "metadata": {},
   "outputs": [],
   "source": []
  }
 ]
}