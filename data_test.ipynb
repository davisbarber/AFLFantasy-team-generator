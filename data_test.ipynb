{
 "metadata": {
  "language_info": {
   "codemirror_mode": {
    "name": "ipython",
    "version": 3
   },
   "file_extension": ".py",
   "mimetype": "text/x-python",
   "name": "python",
   "nbconvert_exporter": "python",
   "pygments_lexer": "ipython3",
   "version": "3.8.5-final"
  },
  "orig_nbformat": 2,
  "kernelspec": {
   "name": "python3",
   "display_name": "Python 3.8.5 64-bit (conda)",
   "metadata": {
    "interpreter": {
     "hash": "82041a31fa746d4a113071159a9c0ff315eaf57a37f12aa63c98354270420767"
    }
   }
  }
 },
 "nbformat": 4,
 "nbformat_minor": 2,
 "cells": [
  {
   "cell_type": "code",
   "execution_count": 9,
   "metadata": {},
   "outputs": [],
   "source": [
    "import pandas as pd\n",
    "\n"
   ]
  },
  {
   "cell_type": "code",
   "execution_count": 10,
   "metadata": {},
   "outputs": [
    {
     "output_type": "execute_result",
     "data": {
      "text/plain": [
       "  firstName lastName        pos1 pos2  price  average  last3Avg  projected  \\\n",
       "0       Max     Gawn        Ruck  NaN  $944k    123.0     117.0      106.0   \n",
       "1      Zach  Merrett  Midfielder  NaN  $884k    115.0     116.0      111.0   \n",
       "2      Jake    Lloyd    Defender  NaN  $873k    114.0     113.0      104.0   \n",
       "3    Brodie   Grundy        Ruck  NaN  $867k    113.0     107.0      109.0   \n",
       "4      Matt   Crouch  Midfielder  NaN  $844k    110.0     122.0      110.0   \n",
       "\n",
       "  include  \n",
       "0       1  \n",
       "1       1  \n",
       "2       1  \n",
       "3       1  \n",
       "4       1  "
      ],
      "text/html": "<div>\n<style scoped>\n    .dataframe tbody tr th:only-of-type {\n        vertical-align: middle;\n    }\n\n    .dataframe tbody tr th {\n        vertical-align: top;\n    }\n\n    .dataframe thead th {\n        text-align: right;\n    }\n</style>\n<table border=\"1\" class=\"dataframe\">\n  <thead>\n    <tr style=\"text-align: right;\">\n      <th></th>\n      <th>firstName</th>\n      <th>lastName</th>\n      <th>pos1</th>\n      <th>pos2</th>\n      <th>price</th>\n      <th>average</th>\n      <th>last3Avg</th>\n      <th>projected</th>\n      <th>include</th>\n    </tr>\n  </thead>\n  <tbody>\n    <tr>\n      <th>0</th>\n      <td>Max</td>\n      <td>Gawn</td>\n      <td>Ruck</td>\n      <td>NaN</td>\n      <td>$944k</td>\n      <td>123.0</td>\n      <td>117.0</td>\n      <td>106.0</td>\n      <td>1</td>\n    </tr>\n    <tr>\n      <th>1</th>\n      <td>Zach</td>\n      <td>Merrett</td>\n      <td>Midfielder</td>\n      <td>NaN</td>\n      <td>$884k</td>\n      <td>115.0</td>\n      <td>116.0</td>\n      <td>111.0</td>\n      <td>1</td>\n    </tr>\n    <tr>\n      <th>2</th>\n      <td>Jake</td>\n      <td>Lloyd</td>\n      <td>Defender</td>\n      <td>NaN</td>\n      <td>$873k</td>\n      <td>114.0</td>\n      <td>113.0</td>\n      <td>104.0</td>\n      <td>1</td>\n    </tr>\n    <tr>\n      <th>3</th>\n      <td>Brodie</td>\n      <td>Grundy</td>\n      <td>Ruck</td>\n      <td>NaN</td>\n      <td>$867k</td>\n      <td>113.0</td>\n      <td>107.0</td>\n      <td>109.0</td>\n      <td>1</td>\n    </tr>\n    <tr>\n      <th>4</th>\n      <td>Matt</td>\n      <td>Crouch</td>\n      <td>Midfielder</td>\n      <td>NaN</td>\n      <td>$844k</td>\n      <td>110.0</td>\n      <td>122.0</td>\n      <td>110.0</td>\n      <td>1</td>\n    </tr>\n  </tbody>\n</table>\n</div>"
     },
     "metadata": {},
     "execution_count": 10
    }
   ],
   "source": [
    "data = pd.read_csv('data/fav_players.csv')\n",
    "data.head()\n",
    "\n"
   ]
  },
  {
   "cell_type": "code",
   "execution_count": 18,
   "metadata": {},
   "outputs": [
    {
     "output_type": "stream",
     "name": "stdout",
     "text": [
      "{'on_field': 6, 'bench': 2}\n"
     ]
    }
   ],
   "source": [
    "# fantasy team parameters\n",
    "salary_cap = 13000 # thousands of dollars\n",
    "team_count = {\n",
    "    \"total\": 30,\n",
    "    \"on_field\": 22,\n",
    "    \"bench\": 8,\n",
    "    \"defs\": {\n",
    "        \"on_field\": 6,\n",
    "        \"bench\": 2\n",
    "    },\n",
    "    \"mids\": {\n",
    "        \"on_field\": 8,\n",
    "        \"bench\": 2\n",
    "    },\n",
    "    \"rucks\": {\n",
    "        \"on_field\": 2,\n",
    "        \"bench\": 1\n",
    "    },\n",
    "    \"fwds\": {\n",
    "        \"on_field\": 6,\n",
    "        \"bench\": 2\n",
    "    }\n",
    "}\n",
    "print(team_count['fwds'])"
   ]
  },
  {
   "cell_type": "code",
   "execution_count": null,
   "metadata": {},
   "outputs": [],
   "source": []
  }
 ]
}